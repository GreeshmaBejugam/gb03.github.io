{
 "cells": [
  {
   "cell_type": "code",
   "execution_count": 2,
   "id": "a85ab330",
   "metadata": {},
   "outputs": [
    {
     "name": "stdout",
     "output_type": "stream",
     "text": [
      "Requirement already satisfied: psycopg2 in /Users/greeshmatherala/anaconda3/lib/python3.11/site-packages (2.9.6)\r\n"
     ]
    }
   ],
   "source": [
    "!pip install psycopg2"
   ]
  },
  {
   "cell_type": "markdown",
   "id": "bda277e0",
   "metadata": {},
   "source": [
    "# Import the library"
   ]
  },
  {
   "cell_type": "code",
   "execution_count": 3,
   "id": "316c11a8",
   "metadata": {},
   "outputs": [],
   "source": [
    "import psycopg2"
   ]
  },
  {
   "cell_type": "markdown",
   "id": "06007214",
   "metadata": {},
   "source": [
    "# Create a connection to the database"
   ]
  },
  {
   "cell_type": "code",
   "execution_count": null,
   "id": "f5f476eb",
   "metadata": {
    "scrolled": true
   },
   "outputs": [],
   "source": [
    "try:\n",
    "    conn = psycopg2.connect(\"host=localhost dbname=postgres user=postgres password=Sushma@26\")\n",
    "except psycopg2.Error as e:\n",
    "    print(\"Error: Could not make connection to postgres database\")\n",
    "    print(e)"
   ]
  },
  {
   "cell_type": "markdown",
   "id": "16f0a007",
   "metadata": {},
   "source": [
    "# Use the connection to get a cursor that can be used to execute"
   ]
  },
  {
   "cell_type": "code",
   "execution_count": 5,
   "id": "bd7cef3f",
   "metadata": {},
   "outputs": [],
   "source": [
    "try:\n",
    "    cur = conn.cursor()\n",
    "except psycopg2.Error as e:\n",
    "    print(\"Error: could not get cursor to the Database\")\n",
    "    print(e)"
   ]
  },
  {
   "cell_type": "markdown",
   "id": "c7b7d0e9",
   "metadata": {},
   "source": [
    "# Set automatic commit to be true so that each action is commited without having to call conn.commit() after each command"
   ]
  },
  {
   "cell_type": "code",
   "execution_count": 6,
   "id": "78e7e392",
   "metadata": {},
   "outputs": [],
   "source": [
    "conn.set_session(autocommit=True)"
   ]
  },
  {
   "cell_type": "markdown",
   "id": "9840fd36",
   "metadata": {},
   "source": [
    "# Create a database to do the work in"
   ]
  },
  {
   "cell_type": "code",
   "execution_count": 7,
   "id": "10b18ab9",
   "metadata": {},
   "outputs": [
    {
     "name": "stdout",
     "output_type": "stream",
     "text": [
      "database \"gbfirstdb\" already exists\n",
      "\n"
     ]
    }
   ],
   "source": [
    "try:\n",
    "    cur.execute(\"create database gbfirstdb\")\n",
    "except psycopg2.Error as e:\n",
    "    print(e)"
   ]
  },
  {
   "cell_type": "code",
   "execution_count": 8,
   "id": "20aceca2",
   "metadata": {},
   "outputs": [],
   "source": [
    "try:\n",
    "    conn.close()\n",
    "except psycopg2.Error as e:\n",
    "    print(e)\n",
    "\n",
    "try:\n",
    "    conn = psycopg2.connect(\"host=localhost dbname=gbfirstdb user=postgres password=Sushma@26\")\n",
    "except psycopg2.Error as e:\n",
    "    print(\"Error: Could not make connection to gbfirstdb database\")\n",
    "    print(e)\n",
    "try:\n",
    "    cur= conn.cursor()\n",
    "except psycopg2.Error as e:\n",
    "    print(\"Error:could not get cursor to the database\")\n",
    "    print(e)\n",
    "\n",
    "conn.set_session(autocommit=True)\n",
    "    "
   ]
  },
  {
   "cell_type": "markdown",
   "id": "7e795ab6",
   "metadata": {},
   "source": [
    "# Create table for students which includes below columns\n",
    "\n",
    "student_id\n",
    "name\n",
    "age\n",
    "gender\n",
    "subject\n",
    "marks"
   ]
  },
  {
   "cell_type": "code",
   "execution_count": 9,
   "id": "626c21a2",
   "metadata": {},
   "outputs": [],
   "source": [
    "try:\n",
    "    cur.execute(\"CREATE TABLE IF NOT EXISTS students (student_id int, name varchar,\\\n",
    "    age int, gender varchar, subject varchar, marks int);\")\n",
    "except psycopg2.Error as e:\n",
    "    print(\"Error: Issue creating table\")\n",
    "    print(e)"
   ]
  },
  {
   "cell_type": "markdown",
   "id": "2eac26fe",
   "metadata": {},
   "source": [
    "# Insert following two rows into table\n",
    "First Row: 1,\"Vivek\",29,\"Male\",\"Python\",80\n",
    "Second Row: 2,\"Greeshma\",26,\"Female\",\"SQL\",75"
   ]
  },
  {
   "cell_type": "code",
   "execution_count": 10,
   "id": "fb773804",
   "metadata": {},
   "outputs": [],
   "source": [
    "try:\n",
    "    cur.execute(\"INSERT INTO students (student_id, name, age, gender, subject, marks)\\\n",
    "                VALUES (%s, %s, %s, %s, %s, %s)\",\\\n",
    "               (1, \"Vivek\", 29, \"Male\",  \"Python\", 80))\n",
    "except psycopg2.Error as e:\n",
    "    print(\"Error: Inserting Rows\")\n",
    "    print(e)\n",
    "\n",
    "try:\n",
    "    cur.execute(\"INSERT INTO students (student_id, name, age, gender, subject, marks)\\\n",
    "    VALUES (%s, %s, %s, %s, %s, %s)\",\\\n",
    "               (2, \"Greeshma\", 26, \"Female\",  \"SQL\", 75))\n",
    "except psycopg2.Error as e:\n",
    "    print(\"Error: Inserting Rows\")\n",
    "    print(e)"
   ]
  },
  {
   "cell_type": "code",
   "execution_count": 12,
   "id": "68c55b0f",
   "metadata": {},
   "outputs": [
    {
     "name": "stdout",
     "output_type": "stream",
     "text": [
      "(1, 'Vivek', 29, 'Male', 'Python', 80)\n",
      "(2, 'Greeshma', 26, 'Female', 'SQL', 75)\n"
     ]
    }
   ],
   "source": [
    "try:\n",
    "    cur.execute(\"SELECT * from students\")\n",
    "except psycopg2.Error as e:\n",
    "    print(\"Error: Select *\")\n",
    "    print(e)\n",
    "row = cur.fetchone()\n",
    "while row:\n",
    "    print(row)\n",
    "    row = cur.fetchone()"
   ]
  },
  {
   "cell_type": "markdown",
   "id": "0a6bb296",
   "metadata": {},
   "source": [
    "# finally close your cursoe and connection\n"
   ]
  },
  {
   "cell_type": "code",
   "execution_count": null,
   "id": "3c93fd39",
   "metadata": {},
   "outputs": [],
   "source": [
    "cur.close()\n",
    "conn.close()"
   ]
  }
 ],
 "metadata": {
  "kernelspec": {
   "display_name": "Python 3 (ipykernel)",
   "language": "python",
   "name": "python3"
  },
  "language_info": {
   "codemirror_mode": {
    "name": "ipython",
    "version": 3
   },
   "file_extension": ".py",
   "mimetype": "text/x-python",
   "name": "python",
   "nbconvert_exporter": "python",
   "pygments_lexer": "ipython3",
   "version": "3.11.3"
  }
 },
 "nbformat": 4,
 "nbformat_minor": 5
}
